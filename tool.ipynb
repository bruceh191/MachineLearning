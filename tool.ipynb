{
 "cells": [
  {
   "cell_type": "code",
   "execution_count": 54,
   "metadata": {},
   "outputs": [],
   "source": [
    "import xlrd\n",
    "import xlsxwriter"
   ]
  },
  {
   "cell_type": "code",
   "execution_count": 55,
   "metadata": {},
   "outputs": [
    {
     "name": "stdout",
     "output_type": "stream",
     "text": [
      "Sheet1 116 6\n"
     ]
    }
   ],
   "source": [
    "workbook=xlrd.open_workbook(r'视频类用户画像维度举例.xlsx')\n",
    "# 获取所有sheet\n",
    "sheet_name = workbook.sheet_names()[0]\n",
    "# 根据sheet索引或者名称获取sheet内容\n",
    "sheet = workbook.sheet_by_index(0) # sheet索引从0开始\n",
    "print(sheet.name,sheet.nrows,sheet.ncols)"
   ]
  },
  {
   "cell_type": "code",
   "execution_count": 56,
   "metadata": {},
   "outputs": [],
   "source": [
    "myworkbook = xlsxwriter.Workbook('my.xlsx')#创建一个excel文件\n",
    "myworksheet = myworkbook.add_worksheet(u'sheet1')#在文件中创建一个名为TEST的sheet,不加名字默认为sheet1\n",
    "   "
   ]
  },
  {
   "cell_type": "code",
   "execution_count": 57,
   "metadata": {},
   "outputs": [],
   "source": [
    "e_name=[]\n",
    "c_name=[]\n",
    "dtype=[]\n",
    "for row in range(74,106):\n",
    "    #print(sheet.cell_value(row,5))\n",
    "    e_name.append(sheet.cell_value(row,5))\n",
    "    c_name.append(sheet.cell_value(row,4))\n",
    "    dtype.append(sheet.cell_value(row,3))"
   ]
  },
  {
   "cell_type": "code",
   "execution_count": 58,
   "metadata": {},
   "outputs": [],
   "source": [
    "for  i in range(len(e_name)):\n",
    "    #print(i,names)\n",
    "    myworksheet.write(0,i,e_name[i])\n",
    "    myworksheet.write(1,i,c_name[i])\n",
    "    myworksheet.write(2,i,dtype[i])"
   ]
  },
  {
   "cell_type": "code",
   "execution_count": 59,
   "metadata": {},
   "outputs": [],
   "source": [
    "myworkbook.close()"
   ]
  },
  {
   "cell_type": "code",
   "execution_count": 3,
   "metadata": {},
   "outputs": [],
   "source": [
    "import openpyxl\n",
    "import numpy as np"
   ]
  },
  {
   "cell_type": "code",
   "execution_count": 6,
   "metadata": {},
   "outputs": [
    {
     "name": "stdout",
     "output_type": "stream",
     "text": [
      "[]\n",
      "['sheet1']\n"
     ]
    },
    {
     "name": "stderr",
     "output_type": "stream",
     "text": [
      "d:\\anaconda\\envs\\fortensorflow\\lib\\site-packages\\ipykernel_launcher.py:4: DeprecationWarning: Call to deprecated function get_named_ranges (Use workbook.defined_names.definedName).\n",
      "  after removing the cwd from sys.path.\n",
      "d:\\anaconda\\envs\\fortensorflow\\lib\\site-packages\\ipykernel_launcher.py:5: DeprecationWarning: Call to deprecated function get_sheet_names (Use wb.sheetnames).\n",
      "  \"\"\"\n",
      "d:\\anaconda\\envs\\fortensorflow\\lib\\site-packages\\ipykernel_launcher.py:7: DeprecationWarning: Call to deprecated function get_sheet_names (Use wb.sheetnames).\n",
      "  import sys\n",
      "d:\\anaconda\\envs\\fortensorflow\\lib\\site-packages\\ipykernel_launcher.py:8: DeprecationWarning: Call to deprecated function get_sheet_by_name (Use wb[sheetname]).\n",
      "  \n"
     ]
    }
   ],
   "source": [
    "import random\n",
    "\n",
    "data = openpyxl.load_workbook('my.xlsx')\n",
    "print(data.get_named_ranges()) # 输出工作页索引范围\n",
    "print(data.get_sheet_names()) # 输出所有工作页的名称\n",
    "# 取第一张表\n",
    "sheetnames = data.get_sheet_names()\n",
    "table = data.get_sheet_by_name(sheetnames[0])\n",
    "table = data.active\n",
    "for i in range(4,25):\n",
    "    table.cell(i,1).value=random.randint(1,7)*3600;\n",
    "    table.cell(i,2).value=random.randint(1,30)*3600;\n",
    "    table.cell(i,3).value=str(random.randint(1,30))+':'+str(random.randint(1,30)*3600)+','+str(random.randint(1,30))+':'+str(random.randint(1,30)*3600);\n",
    "    table.cell(i,4).value=str(random.randint(1,14))+':'+str(random.randint(1,14)*3600)+','+str(random.randint(1,14))+':'+str(random.randint(1,14)*3600);\n",
    "    table.cell(i,5).value=str(random.randint(1,7))+':'+str(random.randint(1,7)*3600)+','+str(random.randint(1,7))+':'+str(random.randint(1,7)*3600);\n",
    "    table.cell(i,6).value=str(random.randint(1,7))+':'+str(random.randint(1,30))+','+str(random.randint(1,7))+':'+str(random.randint(1,30));\n",
    "    table.cell(i,7).value=str(random.randint(1,7))+':'+str(random.randint(1,14))+','+str(random.randint(1,7))+':'+str(random.randint(1,14));\n",
    "    table.cell(i,8).value=str(random.randint(1,7))+':'+str(random.randint(1,7))+','+str(random.randint(1,7))+':'+str(random.randint(1,7));\n",
    "    table.cell(i,9).value='动物世界'+':'+str(round(random.random(),2))+','+'蔚蓝星球'+':'+str(round(random.random(),2));\n",
    "    table.cell(i,10).value='王者荣耀'+':'+str(round(random.random(),2))+','+'王者荣耀'+':'+str(round(random.random(),2));\n",
    "    table.cell(i,11).value='七龙珠'+':'+str(round(random.random(),2))+','+'秦时明月'+':'+str(round(random.random(),2));\n",
    "    table.cell(i,12).value='动漫category'+':'+str(round(random.random(),2));\n",
    "    table.cell(i,13).value='民谣'+':'+str(round(random.random(),2))+','+'摇滚'+':'+str(round(random.random(),2));\n",
    "    table.cell(i,14).value='快乐大本营'+':'+str(round(random.random(),2))+','+'天天向上'+':'+str(round(random.random(),2));\n",
    "    table.cell(i,15).value='综艺category'+':'+str(round(random.random(),2));\n",
    "    table.cell(i,16).value='篮球'+':'+str(round(random.random(),2))+','+'足球'+':'+str(round(random.random(),2));\n",
    "    table.cell(i,17).value='动作,悬疑,爱情,惊悚,喜剧,科幻,古装'\n",
    "    for j in range(18,32):\n",
    "        s=str(set(list(np.random.randint(7,size=random.randint(1,7))))).replace(', ',',')\n",
    "        table.cell(i,j).value=s[1:len(s)-1]\n",
    "    #table.cell(i,4).value=random.random.int(1,30)*3600;    \n",
    "    #table.cell(i,5).value=random.random.int(1,30)*3600; \n",
    "data.save('my.xlsx')"
   ]
  },
  {
   "cell_type": "code",
   "execution_count": 1,
   "metadata": {},
   "outputs": [],
   "source": [
    "from sklearn import cluster"
   ]
  },
  {
   "cell_type": "code",
   "execution_count": 2,
   "metadata": {},
   "outputs": [
    {
     "data": {
      "text/plain": [
       "SpectralClustering(affinity='rbf', assign_labels='kmeans', coef0=1, degree=3,\n",
       "                   eigen_solver=None, eigen_tol=0.0, gamma=1.0,\n",
       "                   kernel_params=None, n_clusters=8, n_init=10, n_jobs=None,\n",
       "                   n_neighbors=10, random_state=None)"
      ]
     },
     "execution_count": 2,
     "metadata": {},
     "output_type": "execute_result"
    }
   ],
   "source": [
    "#谱聚类\n",
    "cluster.SpectralClustering()"
   ]
  },
  {
   "cell_type": "code",
   "execution_count": 3,
   "metadata": {},
   "outputs": [
    {
     "data": {
      "text/plain": [
       "AgglomerativeClustering(affinity='euclidean', compute_full_tree='auto',\n",
       "                        connectivity=None, distance_threshold=None,\n",
       "                        linkage='ward', memory=None, n_clusters=2,\n",
       "                        pooling_func='deprecated')"
      ]
     },
     "execution_count": 3,
     "metadata": {},
     "output_type": "execute_result"
    }
   ],
   "source": [
    "#层次聚类\n",
    "cluster.AgglomerativeClustering()"
   ]
  },
  {
   "cell_type": "code",
   "execution_count": 4,
   "metadata": {},
   "outputs": [
    {
     "data": {
      "text/plain": [
       "MeanShift(bandwidth=None, bin_seeding=False, cluster_all=True, min_bin_freq=1,\n",
       "          n_jobs=None, seeds=None)"
      ]
     },
     "execution_count": 4,
     "metadata": {},
     "output_type": "execute_result"
    }
   ],
   "source": [
    "#均值迁移\n",
    "cluster.MeanShift()"
   ]
  },
  {
   "cell_type": "code",
   "execution_count": 5,
   "metadata": {},
   "outputs": [],
   "source": [
    "#高斯混合模型\n",
    "from sklearn import mixture"
   ]
  },
  {
   "cell_type": "code",
   "execution_count": 6,
   "metadata": {},
   "outputs": [
    {
     "data": {
      "text/plain": [
       "GaussianMixture(covariance_type='full', init_params='kmeans', max_iter=100,\n",
       "                means_init=None, n_components=1, n_init=1, precisions_init=None,\n",
       "                random_state=None, reg_covar=1e-06, tol=0.001, verbose=0,\n",
       "                verbose_interval=10, warm_start=False, weights_init=None)"
      ]
     },
     "execution_count": 6,
     "metadata": {},
     "output_type": "execute_result"
    }
   ],
   "source": [
    "mixture.GaussianMixture()"
   ]
  },
  {
   "cell_type": "code",
   "execution_count": 23,
   "metadata": {},
   "outputs": [],
   "source": [
    "from sklearn.datasets import load_digits\n",
    "from sklearn.preprocessing import scale\n",
    "from sklearn import metrics"
   ]
  },
  {
   "cell_type": "code",
   "execution_count": 24,
   "metadata": {},
   "outputs": [
    {
     "name": "stdout",
     "output_type": "stream",
     "text": [
      "(1797, 64) (1797,)\n"
     ]
    }
   ],
   "source": [
    "digits=load_digits()\n",
    "origin_data=digits.data\n",
    "data=scale(origin_data)\n",
    "labels=digits.target\n",
    "print(origin_data.shape,labels.shape)"
   ]
  },
  {
   "cell_type": "code",
   "execution_count": 31,
   "metadata": {},
   "outputs": [],
   "source": [
    "#谱聚类\n",
    "sc=cluster.SpectralClustering(n_clusters=10,random_state=10)"
   ]
  },
  {
   "cell_type": "code",
   "execution_count": 32,
   "metadata": {},
   "outputs": [],
   "source": [
    "#sc.fit(data)"
   ]
  },
  {
   "cell_type": "code",
   "execution_count": 43,
   "metadata": {},
   "outputs": [],
   "source": [
    "#层次聚类\n",
    "ap=cluster.AgglomerativeClustering(n_clusters=10,linkage='ward')"
   ]
  },
  {
   "cell_type": "code",
   "execution_count": 44,
   "metadata": {},
   "outputs": [
    {
     "data": {
      "text/plain": [
       "AgglomerativeClustering(affinity='euclidean', compute_full_tree='auto',\n",
       "                        connectivity=None, distance_threshold=None,\n",
       "                        linkage='ward', memory=None, n_clusters=10,\n",
       "                        pooling_func='deprecated')"
      ]
     },
     "execution_count": 44,
     "metadata": {},
     "output_type": "execute_result"
    }
   ],
   "source": [
    "ap.fit(data)"
   ]
  },
  {
   "cell_type": "code",
   "execution_count": 46,
   "metadata": {},
   "outputs": [
    {
     "name": "stdout",
     "output_type": "stream",
     "text": [
      "[5 1 1 ... 1 1 1]\n"
     ]
    }
   ],
   "source": [
    "ap_pre_labels=ap.labels_\n",
    "print(ap.labels_)"
   ]
  },
  {
   "cell_type": "code",
   "execution_count": 47,
   "metadata": {},
   "outputs": [
    {
     "data": {
      "text/plain": [
       "0.8364984549462018"
      ]
     },
     "execution_count": 47,
     "metadata": {},
     "output_type": "execute_result"
    }
   ],
   "source": [
    "metrics.completeness_score(labels,ap_pre_labels)"
   ]
  },
  {
   "cell_type": "code",
   "execution_count": 48,
   "metadata": {},
   "outputs": [],
   "source": [
    "#\n",
    "ms=cluster.MeanShift()"
   ]
  },
  {
   "cell_type": "code",
   "execution_count": 49,
   "metadata": {},
   "outputs": [
    {
     "data": {
      "text/plain": [
       "MeanShift(bandwidth=None, bin_seeding=False, cluster_all=True, min_bin_freq=1,\n",
       "          n_jobs=None, seeds=None)"
      ]
     },
     "execution_count": 49,
     "metadata": {},
     "output_type": "execute_result"
    }
   ],
   "source": [
    "ms.fit(data)"
   ]
  },
  {
   "cell_type": "code",
   "execution_count": 50,
   "metadata": {},
   "outputs": [
    {
     "data": {
      "text/plain": [
       "0.28063592764077133"
      ]
     },
     "execution_count": 50,
     "metadata": {},
     "output_type": "execute_result"
    }
   ],
   "source": [
    "ms_pre_labels=ms.labels_\n",
    "metrics.completeness_score(labels,ms_pre_labels)"
   ]
  },
  {
   "cell_type": "code",
   "execution_count": 51,
   "metadata": {},
   "outputs": [
    {
     "data": {
      "text/plain": [
       "0.014178328720812315"
      ]
     },
     "execution_count": 51,
     "metadata": {},
     "output_type": "execute_result"
    }
   ],
   "source": [
    "metrics.homogeneity_score(labels,ms_pre_labels)"
   ]
  },
  {
   "cell_type": "code",
   "execution_count": 3,
   "metadata": {},
   "outputs": [],
   "source": [
    "\n",
    "from sklearn import mixture#高斯混合模型\n",
    "gm=mixture.GaussianMixture(n_components=10)"
   ]
  },
  {
   "cell_type": "code",
   "execution_count": 4,
   "metadata": {},
   "outputs": [
    {
     "ename": "NameError",
     "evalue": "name 'data' is not defined",
     "output_type": "error",
     "traceback": [
      "\u001b[1;31m---------------------------------------------------------------------------\u001b[0m",
      "\u001b[1;31mNameError\u001b[0m                                 Traceback (most recent call last)",
      "\u001b[1;32m<ipython-input-4-4ba661c68682>\u001b[0m in \u001b[0;36m<module>\u001b[1;34m\u001b[0m\n\u001b[1;32m----> 1\u001b[1;33m \u001b[0mgm\u001b[0m\u001b[1;33m.\u001b[0m\u001b[0mfit_predict\u001b[0m\u001b[1;33m(\u001b[0m\u001b[0mdata\u001b[0m\u001b[1;33m)\u001b[0m\u001b[1;33m\u001b[0m\u001b[0m\n\u001b[0m",
      "\u001b[1;31mNameError\u001b[0m: name 'data' is not defined"
     ]
    }
   ],
   "source": [
    "gm.fit_predict(data)"
   ]
  },
  {
   "cell_type": "code",
   "execution_count": null,
   "metadata": {},
   "outputs": [],
   "source": []
  },
  {
   "cell_type": "code",
   "execution_count": null,
   "metadata": {},
   "outputs": [],
   "source": []
  }
 ],
 "metadata": {
  "kernelspec": {
   "display_name": "Python 3",
   "language": "python",
   "name": "python3"
  },
  "language_info": {
   "codemirror_mode": {
    "name": "ipython",
    "version": 3
   },
   "file_extension": ".py",
   "mimetype": "text/x-python",
   "name": "python",
   "nbconvert_exporter": "python",
   "pygments_lexer": "ipython3",
   "version": "3.7.4"
  }
 },
 "nbformat": 4,
 "nbformat_minor": 2
}
